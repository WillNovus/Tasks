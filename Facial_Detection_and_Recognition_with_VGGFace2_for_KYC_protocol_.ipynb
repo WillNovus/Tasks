{
  "cells": [
    {
      "cell_type": "markdown",
      "metadata": {
        "id": "view-in-github",
        "colab_type": "text"
      },
      "source": [
        "<a href=\"https://colab.research.google.com/github/WillNovus/Tasks/blob/main/Facial_Detection_and_Recognition_with_VGGFace2_for_KYC_protocol_.ipynb\" target=\"_parent\"><img src=\"https://colab.research.google.com/assets/colab-badge.svg\" alt=\"Open In Colab\"/></a>"
      ]
    },
    {
      "cell_type": "code",
      "execution_count": null,
      "metadata": {
        "id": "wH-9LTyuKNsk"
      },
      "outputs": [],
      "source": [
        "!pip install tensorflow"
      ]
    },
    {
      "cell_type": "code",
      "execution_count": null,
      "metadata": {
        "id": "Vsx6VniNjkvf"
      },
      "outputs": [],
      "source": [
        "import tensorflow as tf\n",
        "print(tf.__version__)"
      ]
    },
    {
      "cell_type": "code",
      "execution_count": null,
      "metadata": {
        "id": "G87-r0JD2sbK"
      },
      "outputs": [],
      "source": [
        "!pip install git+https://github.com/rcmalli/keras-vggface.git"
      ]
    },
    {
      "cell_type": "code",
      "execution_count": null,
      "metadata": {
        "id": "JeyFnqit5-ju"
      },
      "outputs": [],
      "source": [
        "!pip install mtcnn"
      ]
    },
    {
      "cell_type": "code",
      "execution_count": null,
      "metadata": {
        "id": "pnD8Qt1e9YAL"
      },
      "outputs": [],
      "source": [
        "!pip show keras-vggface"
      ]
    },
    {
      "cell_type": "code",
      "execution_count": null,
      "metadata": {
        "id": "eWYwUvYT97JI"
      },
      "outputs": [],
      "source": [
        "import mtcnn"
      ]
    },
    {
      "cell_type": "code",
      "execution_count": null,
      "metadata": {
        "id": "BvkIL4P2-o0q"
      },
      "outputs": [],
      "source": [
        " !pip install keras-Applications"
      ]
    },
    {
      "cell_type": "code",
      "execution_count": null,
      "metadata": {
        "id": "-sq8IAN7BMmu"
      },
      "outputs": [],
      "source": [
        "from matplotlib import pyplot\n",
        "from PIL import Image\n",
        "from numpy import asarray\n",
        "from scipy.spatial.distance import cosine\n",
        "from mtcnn.mtcnn import MTCNN\n",
        "from keras_vggface.vggface import VGGFace\n",
        "from keras_vggface.utils import preprocess_input"
      ]
    },
    {
      "cell_type": "code",
      "execution_count": null,
      "metadata": {
        "id": "mrtkLX_KTZlG"
      },
      "outputs": [],
      "source": [
        "from google.colab import drive\n",
        "drive.mount('/content/drive', force_remount=True)"
      ]
    },
    {
      "cell_type": "code",
      "execution_count": null,
      "metadata": {
        "colab": {
          "base_uri": "https://localhost:8080/"
        },
        "id": "qgCMpPbhKP0h",
        "outputId": "5cf217fd-423e-487b-8cb7-fbb52210cff0"
      },
      "outputs": [
        {
          "name": "stdout",
          "output_type": "stream",
          "text": [
            "\n",
            "Your working directory was changed to /content/drive/My Drive/Colab Notebooks/project_folder/\n",
            "\n",
            "An empty text file was created there. You can also run !pwd to confirm the current working directory.\n"
          ]
        }
      ],
      "source": [
        "import os \n",
        "root_dir = \"/content/drive/My Drive/\"\n",
        "project_folder = \"Colab Notebooks/project_folder/\"\n",
        "def create_and_set_working_directory(project_folder):\n",
        "  if os.path.isdir(root_dir + project_folder) == False:\n",
        "    os.mkdir(root_dir + project_folder)\n",
        "    print(root_dir + project_folder + ' did not exist but was created.')\n",
        "  os.chdir(root_dir + project_folder)\n",
        "  !touch 'new_file_in_working_directory.txt'\n",
        "  print('\\nYour working directory was changed to ' + root_dir + project_folder + \\\n",
        "        \"\\n\\nAn empty text file was created there. You can also run !pwd to confirm the current working directory.\" )\n",
        "  \n",
        "create_and_set_working_directory(project_folder)"
      ]
    },
    {
      "cell_type": "code",
      "execution_count": null,
      "metadata": {
        "colab": {
          "base_uri": "https://localhost:8080/"
        },
        "id": "8RH6I_6PW1fE",
        "outputId": "5aac4620-df1b-442a-b1b7-f3fe35b550be"
      },
      "outputs": [
        {
          "name": "stdout",
          "output_type": "stream",
          "text": [
            "/content/drive/MyDrive/Colab Notebooks/project_folder\n"
          ]
        }
      ],
      "source": [
        "!pwd"
      ]
    },
    {
      "cell_type": "code",
      "execution_count": null,
      "metadata": {
        "id": "AFHjFKZEVEMu"
      },
      "outputs": [],
      "source": [
        "def extract_face(filename, required_size=(224, 224)):\n",
        "  pixels = pyplot.imread(filename)\n",
        "  # detect faces in the image\n",
        "  detector = MTCNN()\n",
        "  results = detector.detect_faces(pixels)\n",
        "  # extract the bounding box from the first face\n",
        "  x1, y1, width, height = results[0]['box']\n",
        "  x2, y2 = x1 + width, y1 + height\n",
        "  # extract the face\n",
        "  face = pixels[y1:y2, x1:x2]\n",
        "  # resize pixels to the model size\n",
        "  image = Image.fromarray(face)\n",
        "  image = image.resize((224, 224))\n",
        "  face_array = asarray(image)\n",
        "  return face_array\n",
        "\n",
        "  \n"
      ]
    },
    {
      "cell_type": "code",
      "execution_count": null,
      "metadata": {
        "colab": {
          "base_uri": "https://localhost:8080/"
        },
        "id": "kYE5lQhtXBoJ",
        "outputId": "4e8e752e-034a-43b1-9c53-17885cd3b341"
      },
      "outputs": [
        {
          "output_type": "execute_result",
          "data": {
            "text/plain": [
              "array([[[220, 225, 216],\n",
              "        [221, 225, 216],\n",
              "        [221, 226, 216],\n",
              "        ...,\n",
              "        [211, 218, 211],\n",
              "        [211, 218, 210],\n",
              "        [211, 217, 210]],\n",
              "\n",
              "       [[219, 222, 213],\n",
              "        [220, 223, 214],\n",
              "        [218, 222, 213],\n",
              "        ...,\n",
              "        [213, 220, 213],\n",
              "        [212, 219, 211],\n",
              "        [212, 218, 211]],\n",
              "\n",
              "       [[219, 222, 213],\n",
              "        [219, 222, 213],\n",
              "        [220, 223, 214],\n",
              "        ...,\n",
              "        [212, 218, 211],\n",
              "        [212, 218, 211],\n",
              "        [212, 217, 210]],\n",
              "\n",
              "       ...,\n",
              "\n",
              "       [[126, 131, 141],\n",
              "        [124, 127, 141],\n",
              "        [120, 123, 140],\n",
              "        ...,\n",
              "        [102, 109, 127],\n",
              "        [ 94, 102, 120],\n",
              "        [130, 135, 145]],\n",
              "\n",
              "       [[ 91,  97, 119],\n",
              "        [ 92,  97, 119],\n",
              "        [ 95, 101, 120],\n",
              "        ...,\n",
              "        [ 95, 103, 120],\n",
              "        [ 94, 104, 121],\n",
              "        [ 99, 107, 125]],\n",
              "\n",
              "       [[ 90,  97, 116],\n",
              "        [ 77,  85, 103],\n",
              "        [ 78,  84, 100],\n",
              "        ...,\n",
              "        [ 89,  99, 114],\n",
              "        [ 91, 102, 121],\n",
              "        [ 93, 104, 124]]], dtype=uint8)"
            ]
          },
          "metadata": {},
          "execution_count": 63
        }
      ],
      "source": [
        "extract_face('boss11.jpg')"
      ]
    },
    {
      "cell_type": "code",
      "execution_count": null,
      "metadata": {
        "id": "zD9pXUpO-PRU"
      },
      "outputs": [],
      "source": [
        "# extract faces and calculate face embeddings for a list of photo files\n",
        "def get_embeddings(filenames):\n",
        "# extract faces\n",
        "  faces = [extract_face(f) for f in filenames]\n",
        "# convert into an array of samples\n",
        "  samples = asarray(faces, 'float32')\n",
        "# prepare the face for the model, e.g. center pixels. I believe this step solves your resolution problem. \n",
        "  samples = preprocess_input(samples, version=2)\n",
        "# create a vggface model\n",
        "  model = VGGFace(model='resnet50', include_top=False, input_shape=(224, 224, 3),\n",
        "  pooling='avg')\n",
        "# perform prediction\n",
        "  yhat = model.predict(samples)\n",
        "  return yhat"
      ]
    },
    {
      "cell_type": "code",
      "execution_count": null,
      "metadata": {
        "id": "gW1izIrb-W4R"
      },
      "outputs": [],
      "source": [
        "# determine if a candidate face is a match for a known face\n",
        "def is_match(known_embedding, candidate_embedding, thresh=0.5):\n",
        "# calculate distance between embeddings\n",
        "  score = cosine(known_embedding, candidate_embedding)\n",
        "  if score <= thresh:\n",
        "    print('>face is a Match (%.3f <= %.3f)' % (score, thresh))\n",
        "  else:\n",
        "    print('>face is NOT a Match (%.3f > %.3f)' % (score, thresh))\n"
      ]
    },
    {
      "cell_type": "code",
      "execution_count": null,
      "metadata": {
        "id": "141Jtju5-sbr"
      },
      "outputs": [],
      "source": [
        "# define filenames\n",
        "filenames = ['boss11.jpg', 'boss12.jpg', 'lily15.jpg','lily17.jpg',\n",
        "'lily18.jpg', 'paul12.jpg', 'paul17.jpg', 'sam13.jpg','sam14.jpg' ]\n",
        "# get embeddings file filenames\n",
        "embeddings = get_embeddings(filenames)\n"
      ]
    },
    {
      "cell_type": "code",
      "execution_count": null,
      "metadata": {
        "id": "-9Kxyxk1IoNC",
        "colab": {
          "base_uri": "https://localhost:8080/"
        },
        "outputId": "b0109262-136b-4b8f-e6f7-5c6dcaf7af2a"
      },
      "outputs": [
        {
          "output_type": "stream",
          "name": "stdout",
          "text": [
            "Match Test1\n",
            ">face is a Match (0.399 <= 0.500)\n",
            "Match Test2\n",
            ">face is a Match (0.111 <= 0.500)\n"
          ]
        }
      ],
      "source": [
        "\n",
        "# define Mario, Lily, Paul, Sam\n",
        "Mario_id = embeddings[0]\n",
        "Lily_id = embeddings[2]\n",
        "Paul_id = embeddings[5]\n",
        "Sam_id = embeddings[6]\n",
        "# verify known photos of Mario\n",
        "print('Match Test1')\n",
        "is_match(embeddings[0], embeddings[1])\n",
        "# verify known photos of Lily\n",
        "print('Match Test2')\n",
        "is_match(embeddings[7], embeddings[8])"
      ]
    },
    {
      "cell_type": "code",
      "execution_count": null,
      "metadata": {
        "id": "y8Spj4ToDkGS",
        "colab": {
          "base_uri": "https://localhost:8080/"
        },
        "outputId": "b556c71e-5a3b-49d7-be97-473d1c04a0fd"
      },
      "outputs": [
        {
          "output_type": "stream",
          "name": "stdout",
          "text": [
            "Match Test3\n",
            ">face is NOT a Match (0.660 > 0.500)\n"
          ]
        }
      ],
      "source": [
        "# For Negative Result\n",
        "print ('Match Test3')\n",
        "is_match(embeddings[5], embeddings[6])"
      ]
    }
  ],
  "metadata": {
    "colab": {
      "collapsed_sections": [],
      "name": "Copy of Facial Detection and Recognition with VGGFace2 for KYC protocol .ipynb",
      "provenance": [],
      "toc_visible": true,
      "authorship_tag": "ABX9TyNErecykqU6voKgzrugmt/P",
      "include_colab_link": true
    },
    "kernelspec": {
      "display_name": "Python 3",
      "name": "python3"
    },
    "language_info": {
      "name": "python"
    }
  },
  "nbformat": 4,
  "nbformat_minor": 0
}